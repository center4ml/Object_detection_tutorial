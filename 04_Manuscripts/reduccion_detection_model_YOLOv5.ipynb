{
 "cells": [
  {
   "cell_type": "markdown",
   "metadata": {},
   "source": [
    "# Reduccion detection model YOLOv5"
   ]
  },
  {
   "cell_type": "code",
   "execution_count": 1,
   "metadata": {
    "colab": {
     "base_uri": "https://localhost:8080/"
    },
    "executionInfo": {
     "elapsed": 9422,
     "status": "ok",
     "timestamp": 1656410785446,
     "user": {
      "displayName": "Ania Sliwinska",
      "userId": "09759973264814216781"
     },
     "user_tz": -120
    },
    "id": "hR7bwwt_W4On",
    "outputId": "0187e6cb-ed84-47f6-bab6-19bfbceecbd9"
   },
   "outputs": [
    {
     "name": "stderr",
     "output_type": "stream",
     "text": [
      "YOLOv5 🚀 v6.1-267-g50ff6ee Python-3.7.13 torch-1.11.0+cu113 CUDA:0 (Tesla T4, 15110MiB)\n"
     ]
    },
    {
     "name": "stdout",
     "output_type": "stream",
     "text": [
      "Setup complete ✅ (2 CPUs, 12.7 GB RAM, 38.7/78.2 GB disk)\n"
     ]
    }
   ],
   "source": [
    "!git clone https://github.com/ultralytics/yolov5 \n",
    "%cd yolov5\n",
    "%pip install -qr requirements.txt \n",
    "\n",
    "import pandas as pd\n",
    "import numpy as np\n",
    "import glob\n",
    "from PIL import Image\n",
    "import re\n",
    "import matplotlib.pyplot as plt\n",
    "import torch\n",
    "from yolov5 import utils\n",
    "\n",
    "display = utils.notebook_init()  "
   ]
  },
  {
   "cell_type": "code",
   "execution_count": 1,
   "metadata": {
    "colab": {
     "base_uri": "https://localhost:8080/"
    },
    "executionInfo": {
     "elapsed": 2964342,
     "status": "ok",
     "timestamp": 1654684582789,
     "user": {
      "displayName": "Ania Sliwinska",
      "userId": "09759973264814216781"
     },
     "user_tz": -120
    },
    "id": "pzr5FYbMZJte",
    "outputId": "47deec33-e114-4cc4-ccc3-db249ae45402"
   },
   "outputs": [],
   "source": [
    "# Train YOLOv5m for 500 epochs\n",
    "#!python train.py --img 640 --batch 16 --epochs 700 --data particle_data.yaml --weights yolov5m.pt --cache"
   ]
  },
  {
   "cell_type": "markdown",
   "metadata": {
    "id": "5ey-Zx3jwVlt"
   },
   "source": [
    "## Evaluation"
   ]
  },
  {
   "cell_type": "code",
   "execution_count": null,
   "metadata": {
    "colab": {
     "base_uri": "https://localhost:8080/",
     "height": 570,
     "output_embedded_package_id": "1WczRzvspI9G81kOyTTdSs47VP_hRkUOj"
    },
    "executionInfo": {
     "elapsed": 4808,
     "status": "ok",
     "timestamp": 1656330938037,
     "user": {
      "displayName": "Ania Sliwinska",
      "userId": "09759973264814216781"
     },
     "user_tz": -120
    },
    "id": "yZnd32ahvWyE",
    "outputId": "25d36616-701f-4129-9e6e-d2a5ce05eba8"
   },
   "outputs": [
    {
     "data": {
      "text/plain": [
       "Output hidden; open in https://colab.research.google.com to view."
      ]
     },
     "metadata": {},
     "output_type": "display_data"
    }
   ],
   "source": [
    "Image.open('/content/yolov5/runs/train/exp/val_batch0_labels.jpg')"
   ]
  },
  {
   "cell_type": "code",
   "execution_count": null,
   "metadata": {
    "colab": {
     "base_uri": "https://localhost:8080/",
     "height": 570,
     "output_embedded_package_id": "1bEYDUjUXYtr96SNVzCJHilEdDNVK6-pT"
    },
    "executionInfo": {
     "elapsed": 4570,
     "status": "ok",
     "timestamp": 1656330964872,
     "user": {
      "displayName": "Ania Sliwinska",
      "userId": "09759973264814216781"
     },
     "user_tz": -120
    },
    "id": "oWnQYc1XvbMn",
    "outputId": "7dbba1e5-b6ce-48fd-861f-b359ef0b969f"
   },
   "outputs": [
    {
     "data": {
      "text/plain": [
       "Output hidden; open in https://colab.research.google.com to view."
      ]
     },
     "metadata": {},
     "output_type": "display_data"
    }
   ],
   "source": [
    "Image.open('/content/yolov5/runs/train/exp/val_batch0_pred.jpg')"
   ]
  },
  {
   "cell_type": "markdown",
   "metadata": {
    "id": "TK4_mdOdwfEr"
   },
   "source": [
    "## Loading weight for models"
   ]
  },
  {
   "cell_type": "code",
   "execution_count": 2,
   "metadata": {
    "colab": {
     "base_uri": "https://localhost:8080/"
    },
    "executionInfo": {
     "elapsed": 14205,
     "status": "ok",
     "timestamp": 1656411051961,
     "user": {
      "displayName": "Ania Sliwinska",
      "userId": "09759973264814216781"
     },
     "user_tz": -120
    },
    "id": "kYCm9OqoYp2z",
    "outputId": "c09c7fab-8bd5-4635-cf07-7f97a8c9508b"
   },
   "outputs": [
    {
     "name": "stderr",
     "output_type": "stream",
     "text": [
      "Downloading: \"https://github.com/ultralytics/yolov5/archive/master.zip\" to /root/.cache/torch/hub/master.zip\n",
      "\u001b[31m\u001b[1mrequirements:\u001b[0m PyYAML>=5.3.1 not found and is required by YOLOv5, attempting auto-update...\n",
      "Looking in indexes: https://pypi.org/simple, https://us-python.pkg.dev/colab-wheels/public/simple/\n",
      "Requirement already satisfied: PyYAML>=5.3.1 in /usr/local/lib/python3.7/dist-packages (6.0)\n",
      "\n",
      "\u001b[31m\u001b[1mrequirements:\u001b[0m 1 package updated per /content/yolov5/requirements.txt\n",
      "\u001b[31m\u001b[1mrequirements:\u001b[0m ⚠️ \u001b[1mRestart runtime or rerun command for updates to take effect\u001b[0m\n",
      "\n",
      "YOLOv5 🚀 v6.1-267-g50ff6ee Python-3.7.13 torch-1.11.0+cu113 CUDA:0 (Tesla T4, 15110MiB)\n",
      "\n",
      "Fusing layers... \n",
      "Model summary: 290 layers, 20852934 parameters, 0 gradients\n",
      "Adding AutoShape... \n"
     ]
    }
   ],
   "source": [
    "model_v5m = torch.hub.load('ultralytics/yolov5', 'custom', path='best.pt') "
   ]
  },
  {
   "cell_type": "markdown",
   "metadata": {
    "id": "eLu2cP3qwlDZ"
   },
   "source": [
    "## Inference"
   ]
  },
  {
   "cell_type": "code",
   "execution_count": 3,
   "metadata": {
    "executionInfo": {
     "elapsed": 237,
     "status": "ok",
     "timestamp": 1656411068958,
     "user": {
      "displayName": "Ania Sliwinska",
      "userId": "09759973264814216781"
     },
     "user_tz": -120
    },
    "id": "6SUqvLw0ZZcl"
   },
   "outputs": [],
   "source": [
    "numbers = re.compile(r'(\\d+)')\n",
    "def numericalSort(value):\n",
    "    parts = numbers.split(value)\n",
    "    parts[1::2] = map(int, parts[1::2])\n",
    "    return parts"
   ]
  },
  {
   "cell_type": "markdown",
   "metadata": {
    "id": "pxvCc45nyH-V"
   },
   "source": [
    "### Test Images"
   ]
  },
  {
   "cell_type": "code",
   "execution_count": 4,
   "metadata": {
    "executionInfo": {
     "elapsed": 1012,
     "status": "ok",
     "timestamp": 1656411192076,
     "user": {
      "displayName": "Ania Sliwinska",
      "userId": "09759973264814216781"
     },
     "user_tz": -120
    },
    "id": "xtf5bYtxVd0c"
   },
   "outputs": [],
   "source": [
    "!unzip -q ../val.zip -d ../"
   ]
  },
  {
   "cell_type": "code",
   "execution_count": 5,
   "metadata": {
    "executionInfo": {
     "elapsed": 4102,
     "status": "ok",
     "timestamp": 1656411246047,
     "user": {
      "displayName": "Ania Sliwinska",
      "userId": "09759973264814216781"
     },
     "user_tz": -120
    },
    "id": "9ZL8iFz4WUmM"
   },
   "outputs": [],
   "source": [
    "test_img = []\n",
    "for img in sorted(glob.glob(\"val/*.jpg\"), key=numericalSort):\n",
    "    n= Image.open(img)\n",
    "    i= np.asarray(n)\n",
    "    test_img.append(i)"
   ]
  },
  {
   "cell_type": "code",
   "execution_count": 6,
   "metadata": {
    "colab": {
     "base_uri": "https://localhost:8080/"
    },
    "executionInfo": {
     "elapsed": 220,
     "status": "ok",
     "timestamp": 1656411247413,
     "user": {
      "displayName": "Ania Sliwinska",
      "userId": "09759973264814216781"
     },
     "user_tz": -120
    },
    "id": "-BXsZ1wSWckj",
    "outputId": "de4f70c3-229d-44f0-febe-093ce3af72e2"
   },
   "outputs": [
    {
     "data": {
      "text/plain": [
       "29"
      ]
     },
     "execution_count": 6,
     "metadata": {},
     "output_type": "execute_result"
    }
   ],
   "source": [
    "len(test_img)"
   ]
  },
  {
   "cell_type": "code",
   "execution_count": 7,
   "metadata": {
    "executionInfo": {
     "elapsed": 890,
     "status": "ok",
     "timestamp": 1656411250855,
     "user": {
      "displayName": "Ania Sliwinska",
      "userId": "09759973264814216781"
     },
     "user_tz": -120
    },
    "id": "kkwrFLqJVVBa"
   },
   "outputs": [],
   "source": [
    "predict_test = model_v5m(test_img)"
   ]
  },
  {
   "cell_type": "code",
   "execution_count": 8,
   "metadata": {
    "colab": {
     "base_uri": "https://localhost:8080/"
    },
    "executionInfo": {
     "elapsed": 625,
     "status": "ok",
     "timestamp": 1656411254979,
     "user": {
      "displayName": "Ania Sliwinska",
      "userId": "09759973264814216781"
     },
     "user_tz": -120
    },
    "id": "gMQviUZTX8gM",
    "outputId": "801241a2-6dc3-4c56-bde9-bda4fc4c13c9"
   },
   "outputs": [
    {
     "name": "stdout",
     "output_type": "stream",
     "text": [
      "image 1/29: 2348x3261 1 reduccion\n",
      "image 2/29: 2358x3264 1 reduccion\n",
      "image 3/29: 2351x3261 (no detections)\n",
      "image 4/29: 2359x3263 (no detections)\n",
      "image 5/29: 2360x3267 (no detections)\n",
      "image 6/29: 2358x3281 (no detections)\n",
      "image 7/29: 2358x3289 (no detections)\n",
      "image 8/29: 2354x3243 (no detections)\n",
      "image 9/29: 2352x3303 (no detections)\n",
      "image 10/29: 2368x3303 (no detections)\n",
      "image 11/29: 2376x3299 1 reduccion\n",
      "image 12/29: 2364x3313 (no detections)\n",
      "image 13/29: 2364x3284 (no detections)\n",
      "image 14/29: 2363x3286 (no detections)\n",
      "image 15/29: 2363x3291 (no detections)\n",
      "image 16/29: 2369x3276 (no detections)\n",
      "image 17/29: 2364x3274 (no detections)\n",
      "image 18/29: 2368x3298 (no detections)\n",
      "image 19/29: 2380x3303 (no detections)\n",
      "image 20/29: 2371x3166 (no detections)\n",
      "image 21/29: 2362x3297 (no detections)\n",
      "image 22/29: 2360x3308 (no detections)\n",
      "image 23/29: 2365x3290 (no detections)\n",
      "image 24/29: 2368x3308 (no detections)\n",
      "image 25/29: 2383x3294 (no detections)\n",
      "image 26/29: 2371x3293 (no detections)\n",
      "image 27/29: 2363x3278 (no detections)\n",
      "image 28/29: 2361x3278 (no detections)\n",
      "image 29/29: 2369x3279 (no detections)\n",
      "Speed: 5.5ms pre-process, 23.1ms inference, 2.1ms NMS per image at shape (29, 3, 480, 640)\n"
     ]
    }
   ],
   "source": [
    "predict_test.print()"
   ]
  },
  {
   "cell_type": "code",
   "execution_count": 9,
   "metadata": {
    "executionInfo": {
     "elapsed": 215,
     "status": "ok",
     "timestamp": 1656411294091,
     "user": {
      "displayName": "Ania Sliwinska",
      "userId": "09759973264814216781"
     },
     "user_tz": -120
    },
    "id": "0nGG_GKiYZ6G"
   },
   "outputs": [],
   "source": [
    "list_predict_test=[]\n",
    "for i in range(len(predict_test)):\n",
    "  img = predict_test.xyxy[i]\n",
    "  img = img.cpu()\n",
    "  list_predict_test.append(img)"
   ]
  },
  {
   "cell_type": "code",
   "execution_count": 10,
   "metadata": {
    "executionInfo": {
     "elapsed": 266,
     "status": "ok",
     "timestamp": 1656411336942,
     "user": {
      "displayName": "Ania Sliwinska",
      "userId": "09759973264814216781"
     },
     "user_tz": -120
    },
    "id": "WjiUSu6fYhZ2"
   },
   "outputs": [],
   "source": [
    "for x in range(len(list_predict_test)):\n",
    "    file = open('img_test_test_{}.txt'.format(x), 'w+')\n",
    "    content=str(list_predict_test[x])\n",
    "    file.write(content)\n",
    "    file.close()"
   ]
  },
  {
   "cell_type": "code",
   "execution_count": 11,
   "metadata": {
    "colab": {
     "base_uri": "https://localhost:8080/"
    },
    "executionInfo": {
     "elapsed": 7126,
     "status": "ok",
     "timestamp": 1656411346026,
     "user": {
      "displayName": "Ania Sliwinska",
      "userId": "09759973264814216781"
     },
     "user_tz": -120
    },
    "id": "98UtPK_6WkbZ",
    "outputId": "6dbae659-f612-4724-d194-e1a0f61107d0"
   },
   "outputs": [
    {
     "name": "stderr",
     "output_type": "stream",
     "text": [
      "Saved 29 images to \u001b[1mruns/detect/exp\u001b[0m\n"
     ]
    }
   ],
   "source": [
    "predict_test.save()"
   ]
  },
  {
   "cell_type": "code",
   "execution_count": null,
   "metadata": {
    "id": "HHnuaqhY8i5J"
   },
   "outputs": [],
   "source": []
  }
 ],
 "metadata": {
  "accelerator": "GPU",
  "colab": {
   "authorship_tag": "ABX9TyO/fqoWn89hgmsgZq6UN/Ef",
   "collapsed_sections": [],
   "mount_file_id": "1Hcn-t1zxjwZKSy0YJlKergiK6-oeu8Hr",
   "name": "reduccion_detection_model_YOLOv5.ipynb",
   "provenance": [
    {
     "file_id": "1YUh3PgKcPL86H7nvaydaiz4jJ1jqUk1C",
     "timestamp": 1656321448929
    },
    {
     "file_id": "1Sk2gyFKJqc-wpqld9SL_tA-qLo92AY49",
     "timestamp": 1654677846428
    },
    {
     "file_id": "1CFLMmb_qCeAwTbSPu1V1wpHe6JOoji1-",
     "timestamp": 1652095736420
    }
   ]
  },
  "kernelspec": {
   "display_name": "Python 3",
   "language": "python",
   "name": "python3"
  },
  "language_info": {
   "codemirror_mode": {
    "name": "ipython",
    "version": 3
   },
   "file_extension": ".py",
   "mimetype": "text/x-python",
   "name": "python",
   "nbconvert_exporter": "python",
   "pygments_lexer": "ipython3",
   "version": "3.8.5"
  }
 },
 "nbformat": 4,
 "nbformat_minor": 1
}
