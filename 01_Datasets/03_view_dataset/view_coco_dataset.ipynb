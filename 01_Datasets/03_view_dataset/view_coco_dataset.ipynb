{
 "cells": [
  {
   "cell_type": "code",
   "execution_count": 1,
   "id": "73a62ee0",
   "metadata": {},
   "outputs": [],
   "source": [
    "import fiftyone as fo"
   ]
  },
  {
   "cell_type": "code",
   "execution_count": 2,
   "id": "11912a1c",
   "metadata": {},
   "outputs": [],
   "source": [
    "PORT=8001"
   ]
  },
  {
   "cell_type": "code",
   "execution_count": 8,
   "id": "26d1a902",
   "metadata": {},
   "outputs": [
    {
     "name": "stdout",
     "output_type": "stream",
     "text": [
      " 100% |█████████████████| 110/110 [7.6s elapsed, 0s remaining, 14.7 samples/s]      \n"
     ]
    }
   ],
   "source": [
    "ds_train = fo.Dataset.from_dir(\n",
    "    ...:    data_path='/scratch/projects/023/wprawka_01/data/wgisd/data',\n",
    "    ...:    labels_path='/scratch/projects/023/wprawka_01/data/wgisd/coco_annotations/train_polygons_instances.json',\n",
    "    ...:    dataset_type=fo.types.COCODetectionDataset,\n",
    "            label_types='segmentations', #'detections' (default) for bbox only\n",
    "    ...:    name='train',\n",
    "    ...:    label_field=\"ground_truth\"\n",
    "    ...:    )"
   ]
  },
  {
   "cell_type": "code",
   "execution_count": 11,
   "id": "0b8546af",
   "metadata": {},
   "outputs": [],
   "source": [
    "# ?fo.launch_app"
   ]
  },
  {
   "cell_type": "code",
   "execution_count": 14,
   "id": "6dc5a933",
   "metadata": {},
   "outputs": [
    {
     "name": "stdout",
     "output_type": "stream",
     "text": [
      "Session launched. Run `session.show()` to open the App in a cell output.\n"
     ]
    }
   ],
   "source": [
    "session = fo.launch_app(ds_train, address=\"0.0.0.0\", port=PORT, auto=False)"
   ]
  },
  {
   "cell_type": "code",
   "execution_count": 13,
   "id": "dd54ec77",
   "metadata": {},
   "outputs": [],
   "source": [
    "# session.close()"
   ]
  },
  {
   "cell_type": "code",
   "execution_count": null,
   "id": "7a1ba125",
   "metadata": {},
   "outputs": [],
   "source": []
  }
 ],
 "metadata": {
  "kernelspec": {
   "display_name": "Python 3 (ipykernel)",
   "language": "python",
   "name": "python3"
  },
  "language_info": {
   "codemirror_mode": {
    "name": "ipython",
    "version": 3
   },
   "file_extension": ".py",
   "mimetype": "text/x-python",
   "name": "python",
   "nbconvert_exporter": "python",
   "pygments_lexer": "ipython3",
   "version": "3.8.10"
  }
 },
 "nbformat": 4,
 "nbformat_minor": 5
}
